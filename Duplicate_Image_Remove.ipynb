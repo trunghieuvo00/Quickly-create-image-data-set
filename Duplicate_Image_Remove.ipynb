{
  "nbformat": 4,
  "nbformat_minor": 0,
  "metadata": {
    "colab": {
      "name": "Duplicate Image Remove.ipynb",
      "provenance": [],
      "toc_visible": true
    },
    "kernelspec": {
      "name": "python3",
      "display_name": "Python 3"
    }
  },
  "cells": [
    {
      "cell_type": "code",
      "metadata": {
        "id": "lGyIpRWCMpjv",
        "outputId": "d601a577-c70b-4d89-a689-7c5efd30ccdb",
        "colab": {
          "base_uri": "https://localhost:8080/"
        }
      },
      "source": [
        "from google.colab import drive\n",
        "drive.mount('/content/drive')"
      ],
      "execution_count": 1,
      "outputs": [
        {
          "output_type": "stream",
          "text": [
            "Mounted at /content/drive\n"
          ],
          "name": "stdout"
        }
      ]
    },
    {
      "cell_type": "code",
      "metadata": {
        "id": "A115HHYKTi4H",
        "outputId": "68d1e93d-3f85-4b31-917b-a573e3363216",
        "colab": {
          "base_uri": "https://localhost:8080/"
        }
      },
      "source": [
        "cd /content/drive/My Drive/Colab Notebooks/DS Project 1/Data_crawl/Banh Trang Tron"
      ],
      "execution_count": null,
      "outputs": [
        {
          "output_type": "stream",
          "text": [
            "[Errno 2] No such file or directory: '/content/drive/My Drive/UIT/Courses/05. Đồ Án KHDL - Ứng Dụng 1/Food Dataset/Canh khoai mo'\n",
            "/content/drive/My Drive/UIT/Courses/05. Đồ Án KHDL - Ứng Dụng 1/Food Dataset/Canh khổ qua\n"
          ],
          "name": "stdout"
        }
      ]
    },
    {
      "cell_type": "code",
      "metadata": {
        "id": "osCKsVIInhmX"
      },
      "source": [
        "#! pip install scipy==1.1.0"
      ],
      "execution_count": null,
      "outputs": []
    },
    {
      "cell_type": "code",
      "metadata": {
        "id": "ysBBvxaTTPzn"
      },
      "source": [
        "import hashlib\n",
        "from scipy.misc import imread, imresize, imshow\n",
        "import matplotlib.pyplot as plt\n",
        "import matplotlib.gridspec as gridspec\n",
        "%matplotlib inline\n",
        "import time\n",
        "import numpy as np"
      ],
      "execution_count": null,
      "outputs": []
    },
    {
      "cell_type": "markdown",
      "metadata": {
        "id": "PnQRKJHwTnps"
      },
      "source": [
        "# Removing Duplicate Images Using Hashing"
      ]
    },
    {
      "cell_type": "code",
      "metadata": {
        "id": "prXfooVhTXWT"
      },
      "source": [
        "def file_hash(filepath):\n",
        "    with open(filepath, 'rb') as f:\n",
        "        return md5(f.read()).hexdigest()"
      ],
      "execution_count": null,
      "outputs": []
    },
    {
      "cell_type": "code",
      "metadata": {
        "id": "2bDO9zMvTqRG"
      },
      "source": [
        "import os"
      ],
      "execution_count": null,
      "outputs": []
    },
    {
      "cell_type": "code",
      "metadata": {
        "id": "Wcnl676wTsIQ",
        "outputId": "c45553e8-c6e3-4a60-ed30-e36ddf8e91b7",
        "colab": {
          "base_uri": "https://localhost:8080/",
          "height": 35
        }
      },
      "source": [
        "os.getcwd()"
      ],
      "execution_count": null,
      "outputs": [
        {
          "output_type": "execute_result",
          "data": {
            "application/vnd.google.colaboratory.intrinsic+json": {
              "type": "string"
            },
            "text/plain": [
              "'/content/drive/My Drive/UIT/Courses/05. Đồ Án KHDL - Ứng Dụng 1/Food Dataset/Canh khổ qua'"
            ]
          },
          "metadata": {
            "tags": []
          },
          "execution_count": 16
        }
      ]
    },
    {
      "cell_type": "code",
      "metadata": {
        "id": "b5gucuBNTv0W",
        "outputId": "8e93c001-53ee-4ac3-e04c-05ad957f17d4",
        "colab": {
          "base_uri": "https://localhost:8080/"
        }
      },
      "source": [
        "file_list = os.listdir()\n",
        "print(len(file_list))"
      ],
      "execution_count": null,
      "outputs": [
        {
          "output_type": "stream",
          "text": [
            "607\n"
          ],
          "name": "stdout"
        }
      ]
    },
    {
      "cell_type": "code",
      "metadata": {
        "id": "w7CBJcoNTz4R"
      },
      "source": [
        "import hashlib, os\n",
        "duplicates = []\n",
        "hash_keys = dict()\n",
        "for index, filename in  enumerate(os.listdir('.')):  #listdir('.') = current directory\n",
        "    if os.path.isfile(filename):\n",
        "        with open(filename, 'rb') as f:\n",
        "            filehash = hashlib.md5(f.read()).hexdigest()\n",
        "        if filehash not in hash_keys: \n",
        "            hash_keys[filehash] = index\n",
        "        else:\n",
        "            duplicates.append((index,hash_keys[filehash]))"
      ],
      "execution_count": null,
      "outputs": []
    },
    {
      "cell_type": "code",
      "metadata": {
        "id": "Oqxhb43xT373"
      },
      "source": [
        "for file_indexes in duplicates[:30]:\n",
        "    try:\n",
        "    \n",
        "        plt.subplot(121),plt.imshow(imread(file_list[file_indexes[1]]))\n",
        "        plt.title(file_indexes[1]), plt.xticks([]), plt.yticks([])\n",
        "\n",
        "        plt.subplot(122),plt.imshow(imread(file_list[file_indexes[0]]))\n",
        "        plt.title(str(file_indexes[0]) + ' duplicate'), plt.xticks([]), plt.yticks([])\n",
        "        plt.show()\n",
        "    \n",
        "    except OSError as e:\n",
        "        continue"
      ],
      "execution_count": null,
      "outputs": []
    },
    {
      "cell_type": "markdown",
      "metadata": {
        "id": "5eaNnh9ZT7mA"
      },
      "source": [
        "# Delete Files After Printing"
      ]
    },
    {
      "cell_type": "code",
      "metadata": {
        "id": "Iwwce67KT8GI"
      },
      "source": [
        "for index in duplicates:\n",
        "    os.remove(file_list[index[0]])"
      ],
      "execution_count": null,
      "outputs": []
    },
    {
      "cell_type": "code",
      "metadata": {
        "id": "jJQq-uK7oZJo"
      },
      "source": [
        ""
      ],
      "execution_count": null,
      "outputs": []
    }
  ]
}